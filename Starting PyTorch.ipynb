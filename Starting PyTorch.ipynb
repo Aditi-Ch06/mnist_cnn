{
 "cells": [
  {
   "cell_type": "code",
   "execution_count": 34,
   "id": "15098275-f256-41e9-9eea-767f2f3bf9cf",
   "metadata": {},
   "outputs": [],
   "source": [
    "# importing essential libraries\n",
    "import torch # core library for PyTorch providing tensor operations\n",
    "import torchvision # contains dataset(MNIST)\n",
    "from torchvision import datasets,transforms # transformations(converting images to tensors(thier pixel values))\n",
    "import torch.nn as nn # provides modules (neural network building blocks) like Conv2d and ReLU for creating models\n",
    "import torch.optim as optim # contains optimization algos(provide optimizers like adam for updating model weigths during training\n",
    "from torch.utils.data import DataLoader"
   ]
  },
  {
   "cell_type": "markdown",
   "id": "6690d7b2-c409-4aeb-b1e1-30c2bf5742c7",
   "metadata": {},
   "source": [
    "downloading and loading the mnist dataset which consists of greyscale images of handwritten digits(0-9), each of 28*28 pixels"
   ]
  },
  {
   "cell_type": "code",
   "execution_count": 36,
   "id": "e504db0a-16de-44f5-84f5-a95f32b46b11",
   "metadata": {},
   "outputs": [],
   "source": [
    "# transformations for the dataset\n",
    "transform = transforms.Compose([\n",
    "    transforms.ToTensor(), # converts image to tensor(multi-dimensional arrays)\n",
    "    transforms.Normalize((0.5,),(0.5,)) # normalize pixel values, which improves convergence during training\n",
    "])"
   ]
  },
  {
   "cell_type": "code",
   "execution_count": 37,
   "id": "c3870f2a-aca4-426e-9c14-60ba38f2a618",
   "metadata": {},
   "outputs": [],
   "source": [
    "train_data = datasets.MNIST(root='./data', train=True, transform=transform, download=True)\n",
    "test_data = datasets.MNIST(root='./data', train=False, transform=transform, download=True)"
   ]
  },
  {
   "cell_type": "code",
   "execution_count": 38,
   "id": "ca483004-a965-4506-a571-7465ab74a9c1",
   "metadata": {},
   "outputs": [],
   "source": [
    "train_load = DataLoader(dataset=train_data, batch_size=64, shuffle=True)\n",
    "test_load = DataLoader(dataset=test_data, batch_size=64, shuffle=False)"
   ]
  },
  {
   "cell_type": "markdown",
   "id": "4963c177-3dde-428b-aeb1-f362c4474575",
   "metadata": {},
   "source": [
    "cnn architecture ~~~"
   ]
  },
  {
   "cell_type": "code",
   "execution_count": 40,
   "id": "781c83af-8d32-495f-9aff-807230dc7e5c",
   "metadata": {},
   "outputs": [],
   "source": [
    "class CNN(nn.Module):\n",
    "    def __init__(self):\n",
    "        super(CNN, self).__init__()\n",
    "        # convolutional layers\n",
    "        self.conv1 = nn.Conv2d(in_channels=1, out_channels=32, kernel_size=5, stride=1, padding=\"same\")\n",
    "        self.pool = nn.MaxPool2d(kernel_size=2, stride=2, padding=0)\n",
    "        self.conv2 = nn.Conv2d(in_channels=32, out_channels=64, kernel_size=5, stride=1, padding='same')\n",
    "\n",
    "        # fully connected layers(flatten, dense(hidden) & output)\n",
    "        self.flatten = nn.Flatten() # flattens feature maps coming from convolutional layers into sigle vector\n",
    "        self.fc1 = nn.Linear(64*7*7, 1024) # 7*7*64 comes from flattened feature maps & 1024 are the no of units\n",
    "        self.fc2 = nn.Linear(1024, 10) # 10 output classes/categories (0-9)\n",
    "\n",
    "        # activation function\n",
    "        self.relu = nn.ReLU()\n",
    "\n",
    "    def forward(self, x):\n",
    "        x = self.relu(self.conv1(x)) # first convolutional layer + relu\n",
    "        x = self.pool(x) # first pooling layer(max pooling)\n",
    "        x = self.relu(self.conv2(x)) # second convolutional layer + relu\n",
    "        x = self.pool(x) # second pooling layer(max pooling)\n",
    "        x = self.flatten(x) # flatten layer\n",
    "        x = self.relu(self.fc1(x)) # dense(hidden) layer with relu\n",
    "        x = self.fc2(x) # output layer (logits, raw scores before activation function applied)\n",
    "        return x"
   ]
  },
  {
   "cell_type": "code",
   "execution_count": 41,
   "id": "8c4b8beb-a3eb-4cb6-8234-3656b1fe94a7",
   "metadata": {},
   "outputs": [],
   "source": [
    "# initiating model, loss func & optimizer\n",
    "model = CNN()\n",
    "criterion = nn.CrossEntropyLoss() # loss func(combining softmax & neg log likelihood loss, suitable for classification) for multi-class classification(here 0-9)\n",
    "optimizer = optim.Adam(model.parameters()) # adam optimizer for weight updation"
   ]
  },
  {
   "cell_type": "code",
   "execution_count": 42,
   "id": "e4960880-0ed9-4851-8212-c177c8896e08",
   "metadata": {},
   "outputs": [
    {
     "name": "stdout",
     "output_type": "stream",
     "text": [
      "Epoch 1/5, Loss: 0.1377, Accuracy: 95.72%\n",
      "Epoch 2/5, Loss: 0.0410, Accuracy: 98.69%\n",
      "Epoch 3/5, Loss: 0.0273, Accuracy: 99.12%\n",
      "Epoch 4/5, Loss: 0.0199, Accuracy: 99.37%\n",
      "Epoch 5/5, Loss: 0.0165, Accuracy: 99.48%\n"
     ]
    }
   ],
   "source": [
    "# training model\n",
    "num_epochs = 5\n",
    "for epoch in range(num_epochs):\n",
    "    model.train() # sets model to training mode\n",
    "    running_loss = 0.0\n",
    "    correct = 0\n",
    "    total = 0\n",
    "    for inputs, labels in train_load:\n",
    "        # zeroing param gradients i.e. clearing previous gradients to avoid accumulations\n",
    "        optimizer.zero_grad()\n",
    "\n",
    "        # forward propogation\n",
    "        outputs = model(inputs)\n",
    "        loss = criterion(outputs, labels)\n",
    "\n",
    "        # backward propogation\n",
    "        loss.backward() # computes gradient for backpropogation\n",
    "        optimizer.step() # updates model weights based on gradients\n",
    "\n",
    "        # updating running loss\n",
    "        running_loss += loss.item()\n",
    "\n",
    "        # calculating accuracy\n",
    "        _, predicted = torch.max(outputs, 1) # gets predicted class\n",
    "        total += labels.size(0) # total samples in batch\n",
    "        correct += (predicted==labels).sum().item() # correct predictions in batch\n",
    "\n",
    "    epoch_loss = running_loss/len(train_load) # avg epoch loss\n",
    "    epoch_acc = correct/total*100 # accuracy in %\n",
    "    print(f\"Epoch {epoch+1}/{num_epochs}, Loss: {epoch_loss:.4f}, Accuracy: {epoch_acc:.2f}%\")"
   ]
  },
  {
   "cell_type": "code",
   "execution_count": 43,
   "id": "f6711d0c-f498-4a15-ab7a-1548ab425754",
   "metadata": {},
   "outputs": [
    {
     "name": "stdout",
     "output_type": "stream",
     "text": [
      "Test Accuracy: 98.89%\n"
     ]
    }
   ],
   "source": [
    "# evaluating the model\n",
    "model.eval() # sets model to evaluation mode\n",
    "correct = 0\n",
    "total = 0\n",
    "with torch.no_grad(): # disabling gradient computation for faster evaluation and saving memory\n",
    "    for inputs, labels in test_load:\n",
    "        outputs = model(inputs)\n",
    "        _, predicted  = torch.max(outputs, 1) # gets class with highest score(probability)\n",
    "        total += labels.size(0)\n",
    "        correct += (predicted==labels).sum().item()\n",
    "\n",
    "accuracy = 100*correct/total\n",
    "print(f\"Test Accuracy: {accuracy:.2f}%\")"
   ]
  },
  {
   "cell_type": "code",
   "execution_count": 56,
   "id": "55771451-cf20-42f4-9069-57854015e5b0",
   "metadata": {},
   "outputs": [
    {
     "name": "stdout",
     "output_type": "stream",
     "text": [
      "model saved successfully\n"
     ]
    }
   ],
   "source": [
    "# saving trained model\n",
    "torch.save(model.state_dict(), \"mnist_cnn.pth\")\n",
    "print(\"model saved successfully\")"
   ]
  },
  {
   "cell_type": "code",
   "execution_count": null,
   "id": "33091078-1983-413d-b825-229b18864fb8",
   "metadata": {},
   "outputs": [],
   "source": []
  }
 ],
 "metadata": {
  "kernelspec": {
   "display_name": "Python 3 (ipykernel)",
   "language": "python",
   "name": "python3"
  },
  "language_info": {
   "codemirror_mode": {
    "name": "ipython",
    "version": 3
   },
   "file_extension": ".py",
   "mimetype": "text/x-python",
   "name": "python",
   "nbconvert_exporter": "python",
   "pygments_lexer": "ipython3",
   "version": "3.12.7"
  }
 },
 "nbformat": 4,
 "nbformat_minor": 5
}
